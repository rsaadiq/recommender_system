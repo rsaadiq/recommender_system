{
 "cells": [
  {
   "cell_type": "markdown",
   "metadata": {},
   "source": [
    "# Recommender system by Alternating Least Squares for Implicit Feedback"
   ]
  },
  {
   "cell_type": "code",
   "execution_count": 3,
   "metadata": {},
   "outputs": [
    {
     "data": {
      "text/html": [
       "<div>\n",
       "<style scoped>\n",
       "    .dataframe tbody tr th:only-of-type {\n",
       "        vertical-align: middle;\n",
       "    }\n",
       "\n",
       "    .dataframe tbody tr th {\n",
       "        vertical-align: top;\n",
       "    }\n",
       "\n",
       "    .dataframe thead th {\n",
       "        text-align: right;\n",
       "    }\n",
       "</style>\n",
       "<table border=\"1\" class=\"dataframe\">\n",
       "  <thead>\n",
       "    <tr style=\"text-align: right;\">\n",
       "      <th></th>\n",
       "      <th>user_id</th>\n",
       "      <th>item_id</th>\n",
       "      <th>dow</th>\n",
       "      <th>hod</th>\n",
       "      <th>category_id</th>\n",
       "      <th>cusine_id</th>\n",
       "      <th>restaurant_id</th>\n",
       "      <th>item_count</th>\n",
       "    </tr>\n",
       "  </thead>\n",
       "  <tbody>\n",
       "    <tr>\n",
       "      <th>0</th>\n",
       "      <td>-6088859261566846925</td>\n",
       "      <td>601d4dc5-2ad</td>\n",
       "      <td>7</td>\n",
       "      <td>3</td>\n",
       "      <td>9c64431e-79f</td>\n",
       "      <td>fb8b5b7f-013</td>\n",
       "      <td>706247b3-86e</td>\n",
       "      <td>1</td>\n",
       "    </tr>\n",
       "    <tr>\n",
       "      <th>1</th>\n",
       "      <td>-4662982070704311223</td>\n",
       "      <td>af48a23f-f80</td>\n",
       "      <td>7</td>\n",
       "      <td>2</td>\n",
       "      <td>a989cb37-db5</td>\n",
       "      <td>8631ea96-a78</td>\n",
       "      <td>ea90883c-a2f</td>\n",
       "      <td>1</td>\n",
       "    </tr>\n",
       "    <tr>\n",
       "      <th>2</th>\n",
       "      <td>-4849981472186386714</td>\n",
       "      <td>bab8cfae-930</td>\n",
       "      <td>1</td>\n",
       "      <td>1</td>\n",
       "      <td>4f31b9ea-059</td>\n",
       "      <td>5aa1a680-942</td>\n",
       "      <td>d9ab8a13-380</td>\n",
       "      <td>1</td>\n",
       "    </tr>\n",
       "    <tr>\n",
       "      <th>3</th>\n",
       "      <td>-5400975689533971605</td>\n",
       "      <td>3ae9d553-282</td>\n",
       "      <td>4</td>\n",
       "      <td>0</td>\n",
       "      <td>37d510f8-745</td>\n",
       "      <td>c9aa3993-86f</td>\n",
       "      <td>0b8d021a-c5c</td>\n",
       "      <td>1</td>\n",
       "    </tr>\n",
       "    <tr>\n",
       "      <th>4</th>\n",
       "      <td>4810905585891548302</td>\n",
       "      <td>3d673534-8f8</td>\n",
       "      <td>3</td>\n",
       "      <td>1</td>\n",
       "      <td>4264559d-470</td>\n",
       "      <td>5aa1a680-942</td>\n",
       "      <td>5772716f-1f3</td>\n",
       "      <td>1</td>\n",
       "    </tr>\n",
       "  </tbody>\n",
       "</table>\n",
       "</div>"
      ],
      "text/plain": [
       "               user_id       item_id  dow  hod   category_id     cusine_id  \\\n",
       "0 -6088859261566846925  601d4dc5-2ad    7    3  9c64431e-79f  fb8b5b7f-013   \n",
       "1 -4662982070704311223  af48a23f-f80    7    2  a989cb37-db5  8631ea96-a78   \n",
       "2 -4849981472186386714  bab8cfae-930    1    1  4f31b9ea-059  5aa1a680-942   \n",
       "3 -5400975689533971605  3ae9d553-282    4    0  37d510f8-745  c9aa3993-86f   \n",
       "4  4810905585891548302  3d673534-8f8    3    1  4264559d-470  5aa1a680-942   \n",
       "\n",
       "  restaurant_id  item_count  \n",
       "0  706247b3-86e           1  \n",
       "1  ea90883c-a2f           1  \n",
       "2  d9ab8a13-380           1  \n",
       "3  0b8d021a-c5c           1  \n",
       "4  5772716f-1f3           1  "
      ]
     },
     "execution_count": 3,
     "metadata": {},
     "output_type": "execute_result"
    }
   ],
   "source": [
    "import pandas as pd\n",
    "data = pd.read_csv('data.csv')\n",
    "data.head()"
   ]
  },
  {
   "cell_type": "code",
   "execution_count": 4,
   "metadata": {},
   "outputs": [
    {
     "name": "stdout",
     "output_type": "stream",
     "text": [
      "Number of rows and columns: (323138, 8)\n"
     ]
    }
   ],
   "source": [
    "print('Number of rows and columns:',data.shape)"
   ]
  },
  {
   "cell_type": "markdown",
   "metadata": {},
   "source": [
    "## Exploratory Data Analysis"
   ]
  },
  {
   "cell_type": "code",
   "execution_count": 5,
   "metadata": {},
   "outputs": [
    {
     "name": "stdout",
     "output_type": "stream",
     "text": [
      "Number of user: 68109\n",
      "Number of item: 53403\n",
      "Number of category: 15131\n",
      "Number of cusine: 47\n",
      "Number of restaurant: 3357\n"
     ]
    }
   ],
   "source": [
    "print('Number of user:', len(data.user_id.unique()))\n",
    "print('Number of item:', len(data.item_id.unique()))\n",
    "print('Number of category:', len(data.category_id.unique()))\n",
    "print('Number of cusine:', len(data.cusine_id.unique()))\n",
    "print('Number of restaurant:', len(data.restaurant_id.unique()))"
   ]
  },
  {
   "cell_type": "markdown",
   "metadata": {},
   "source": [
    "#### Different item_id consists of different combination of category, cusine and restaurant so finally we will work with item_id as it consists all the information of category, cusine and restaurant."
   ]
  },
  {
   "cell_type": "code",
   "execution_count": 6,
   "metadata": {},
   "outputs": [
    {
     "name": "stdout",
     "output_type": "stream",
     "text": [
      "Number of orders on different days\n"
     ]
    },
    {
     "data": {
      "text/plain": [
       "6    49954\n",
       "5    49468\n",
       "7    46886\n",
       "4    46580\n",
       "3    45232\n",
       "1    43293\n",
       "2    41725\n",
       "Name: dow, dtype: int64"
      ]
     },
     "execution_count": 6,
     "metadata": {},
     "output_type": "execute_result"
    }
   ],
   "source": [
    "print('Number of orders on different days')\n",
    "data.dow.value_counts()"
   ]
  },
  {
   "cell_type": "code",
   "execution_count": 7,
   "metadata": {},
   "outputs": [
    {
     "name": "stdout",
     "output_type": "stream",
     "text": [
      "Number of items sold on different days:\n"
     ]
    },
    {
     "data": {
      "text/html": [
       "<div>\n",
       "<style scoped>\n",
       "    .dataframe tbody tr th:only-of-type {\n",
       "        vertical-align: middle;\n",
       "    }\n",
       "\n",
       "    .dataframe tbody tr th {\n",
       "        vertical-align: top;\n",
       "    }\n",
       "\n",
       "    .dataframe thead th {\n",
       "        text-align: right;\n",
       "    }\n",
       "</style>\n",
       "<table border=\"1\" class=\"dataframe\">\n",
       "  <thead>\n",
       "    <tr style=\"text-align: right;\">\n",
       "      <th></th>\n",
       "      <th>item_count</th>\n",
       "    </tr>\n",
       "    <tr>\n",
       "      <th>dow</th>\n",
       "      <th></th>\n",
       "    </tr>\n",
       "  </thead>\n",
       "  <tbody>\n",
       "    <tr>\n",
       "      <th>6</th>\n",
       "      <td>50848</td>\n",
       "    </tr>\n",
       "    <tr>\n",
       "      <th>5</th>\n",
       "      <td>50373</td>\n",
       "    </tr>\n",
       "    <tr>\n",
       "      <th>7</th>\n",
       "      <td>47592</td>\n",
       "    </tr>\n",
       "    <tr>\n",
       "      <th>4</th>\n",
       "      <td>47313</td>\n",
       "    </tr>\n",
       "    <tr>\n",
       "      <th>3</th>\n",
       "      <td>46080</td>\n",
       "    </tr>\n",
       "    <tr>\n",
       "      <th>1</th>\n",
       "      <td>43999</td>\n",
       "    </tr>\n",
       "    <tr>\n",
       "      <th>2</th>\n",
       "      <td>42493</td>\n",
       "    </tr>\n",
       "  </tbody>\n",
       "</table>\n",
       "</div>"
      ],
      "text/plain": [
       "     item_count\n",
       "dow            \n",
       "6         50848\n",
       "5         50373\n",
       "7         47592\n",
       "4         47313\n",
       "3         46080\n",
       "1         43999\n",
       "2         42493"
      ]
     },
     "execution_count": 7,
     "metadata": {},
     "output_type": "execute_result"
    }
   ],
   "source": [
    "print('Number of items sold on different days:')\n",
    "x_d =pd.pivot_table(data, values = 'item_count', index = 'dow', aggfunc = sum)\n",
    "x_d.sort_values('item_count', ascending = False)"
   ]
  },
  {
   "cell_type": "code",
   "execution_count": 8,
   "metadata": {},
   "outputs": [
    {
     "name": "stdout",
     "output_type": "stream",
     "text": [
      "Number of orders on different hours of the day:\n"
     ]
    },
    {
     "data": {
      "text/plain": [
       "2     35400\n",
       "3     34646\n",
       "1     34144\n",
       "4     30011\n",
       "0     28778\n",
       "21    24197\n",
       "20    23857\n",
       "23    19484\n",
       "22    19042\n",
       "19    17584\n",
       "5     14956\n",
       "16    10558\n",
       "17    10257\n",
       "15     8879\n",
       "18     8393\n",
       "6      2952\n",
       "Name: hod, dtype: int64"
      ]
     },
     "execution_count": 8,
     "metadata": {},
     "output_type": "execute_result"
    }
   ],
   "source": [
    "print('Number of orders on different hours of the day:')\n",
    "data.hod.value_counts()"
   ]
  },
  {
   "cell_type": "code",
   "execution_count": 9,
   "metadata": {},
   "outputs": [
    {
     "name": "stdout",
     "output_type": "stream",
     "text": [
      "Number of items sold in different hours of the day:\n"
     ]
    },
    {
     "data": {
      "text/html": [
       "<div>\n",
       "<style scoped>\n",
       "    .dataframe tbody tr th:only-of-type {\n",
       "        vertical-align: middle;\n",
       "    }\n",
       "\n",
       "    .dataframe tbody tr th {\n",
       "        vertical-align: top;\n",
       "    }\n",
       "\n",
       "    .dataframe thead th {\n",
       "        text-align: right;\n",
       "    }\n",
       "</style>\n",
       "<table border=\"1\" class=\"dataframe\">\n",
       "  <thead>\n",
       "    <tr style=\"text-align: right;\">\n",
       "      <th></th>\n",
       "      <th>item_count</th>\n",
       "    </tr>\n",
       "    <tr>\n",
       "      <th>hod</th>\n",
       "      <th></th>\n",
       "    </tr>\n",
       "  </thead>\n",
       "  <tbody>\n",
       "    <tr>\n",
       "      <th>2</th>\n",
       "      <td>35917</td>\n",
       "    </tr>\n",
       "    <tr>\n",
       "      <th>3</th>\n",
       "      <td>35165</td>\n",
       "    </tr>\n",
       "    <tr>\n",
       "      <th>1</th>\n",
       "      <td>34728</td>\n",
       "    </tr>\n",
       "    <tr>\n",
       "      <th>4</th>\n",
       "      <td>30476</td>\n",
       "    </tr>\n",
       "    <tr>\n",
       "      <th>0</th>\n",
       "      <td>29243</td>\n",
       "    </tr>\n",
       "    <tr>\n",
       "      <th>21</th>\n",
       "      <td>24566</td>\n",
       "    </tr>\n",
       "    <tr>\n",
       "      <th>20</th>\n",
       "      <td>24318</td>\n",
       "    </tr>\n",
       "    <tr>\n",
       "      <th>23</th>\n",
       "      <td>19733</td>\n",
       "    </tr>\n",
       "    <tr>\n",
       "      <th>22</th>\n",
       "      <td>19283</td>\n",
       "    </tr>\n",
       "    <tr>\n",
       "      <th>19</th>\n",
       "      <td>17891</td>\n",
       "    </tr>\n",
       "    <tr>\n",
       "      <th>5</th>\n",
       "      <td>15159</td>\n",
       "    </tr>\n",
       "    <tr>\n",
       "      <th>16</th>\n",
       "      <td>10898</td>\n",
       "    </tr>\n",
       "    <tr>\n",
       "      <th>17</th>\n",
       "      <td>10445</td>\n",
       "    </tr>\n",
       "    <tr>\n",
       "      <th>15</th>\n",
       "      <td>9330</td>\n",
       "    </tr>\n",
       "    <tr>\n",
       "      <th>18</th>\n",
       "      <td>8550</td>\n",
       "    </tr>\n",
       "    <tr>\n",
       "      <th>6</th>\n",
       "      <td>2996</td>\n",
       "    </tr>\n",
       "  </tbody>\n",
       "</table>\n",
       "</div>"
      ],
      "text/plain": [
       "     item_count\n",
       "hod            \n",
       "2         35917\n",
       "3         35165\n",
       "1         34728\n",
       "4         30476\n",
       "0         29243\n",
       "21        24566\n",
       "20        24318\n",
       "23        19733\n",
       "22        19283\n",
       "19        17891\n",
       "5         15159\n",
       "16        10898\n",
       "17        10445\n",
       "15         9330\n",
       "18         8550\n",
       "6          2996"
      ]
     },
     "execution_count": 9,
     "metadata": {},
     "output_type": "execute_result"
    }
   ],
   "source": [
    "print('Number of items sold in different hours of the day:')\n",
    "x = pd.pivot_table(data, values = 'item_count', index = 'hod', aggfunc = sum)\n",
    "x.sort_values('item_count', ascending = False)"
   ]
  },
  {
   "cell_type": "markdown",
   "metadata": {},
   "source": [
    "#### Number of orders and number of items sold have no significant changes for different days and hours, I mean day 6 or hour 2 has the highest orders and the highest item sold and also true for lowest. I wanted to check if any lower nubmer of order has higher of sell or not."
   ]
  },
  {
   "cell_type": "code",
   "execution_count": 10,
   "metadata": {},
   "outputs": [],
   "source": [
    "import matplotlib.pyplot as plt\n",
    "import seaborn as sns\n",
    "data.dow = data.dow.astype('str')\n",
    "order = data.dow.value_counts().index\n",
    "color = sns.color_palette()[9]\n",
    "n_dow = data.dow.shape[0]\n",
    "dow_counts = data.dow.value_counts()\n",
    "fig = plt.figure(figsize = (20,6))\n",
    "plt.subplot(1,2,1)\n",
    "sns.countplot(data = data, y = 'dow', order = order, color = color)\n",
    "for i in range(dow_counts.shape[0]):\n",
    "    count = dow_counts[i]\n",
    "    string = '{:0.1f}%'.format(100*count/n_dow)\n",
    "    plt.text(count+1, i, string)\n",
    "    plt.xlabel('Proportion')\n",
    "    plt.title('Order (%) on different days of week')\n",
    "    \n",
    "data.hod = data.hod.astype('str')\n",
    "order_hod = data.hod.value_counts().index\n",
    "n_hod = data.hod.shape[0]\n",
    "hod_counts = data.hod.value_counts()\n",
    "plt.subplot(1,2,2)\n",
    "sns.countplot(data = data, y = 'hod', order = order_hod, color = color)\n",
    "for i in range(hod_counts.shape[0]):\n",
    "    count_h = hod_counts[i]\n",
    "    string_h = '{:.1f}%'.format(100*count_h/n_hod)\n",
    "    plt.text(count_h+i, i, string_h)\n",
    "    plt.xlabel('Proportion')\n",
    "    plt.title('Order (%) on different hours of the day')"
   ]
  },
  {
   "cell_type": "markdown",
   "metadata": {},
   "source": [
    "#### Though there are no significant differences among different days of the week, day 6 and 5 have more than 15% orders may be 5 and 6 are friday and saturday respectively. \n",
    "#### For hour we can see there is no data for hour 7 to hour 14, may be this period is 12 AM (Night) to 8 AM (Morning). Other than this period we can see 0 to 4 (may be 5 PM to 9 PM) are the pick hours for the orders, within these hours maximum orders have been placed. \n"
   ]
  },
  {
   "cell_type": "code",
   "execution_count": 11,
   "metadata": {},
   "outputs": [
    {
     "data": {
      "text/html": [
       "<div>\n",
       "<style scoped>\n",
       "    .dataframe tbody tr th:only-of-type {\n",
       "        vertical-align: middle;\n",
       "    }\n",
       "\n",
       "    .dataframe tbody tr th {\n",
       "        vertical-align: top;\n",
       "    }\n",
       "\n",
       "    .dataframe thead th {\n",
       "        text-align: right;\n",
       "    }\n",
       "</style>\n",
       "<table border=\"1\" class=\"dataframe\">\n",
       "  <thead>\n",
       "    <tr style=\"text-align: right;\">\n",
       "      <th></th>\n",
       "      <th>user_id</th>\n",
       "      <th>item_id</th>\n",
       "      <th>dow</th>\n",
       "      <th>hod</th>\n",
       "      <th>H_D</th>\n",
       "      <th>category_id</th>\n",
       "      <th>cusine_id</th>\n",
       "      <th>restaurant_id</th>\n",
       "      <th>item_count</th>\n",
       "    </tr>\n",
       "  </thead>\n",
       "  <tbody>\n",
       "    <tr>\n",
       "      <th>0</th>\n",
       "      <td>-6088859261566846925</td>\n",
       "      <td>601d4dc5-2ad</td>\n",
       "      <td>7</td>\n",
       "      <td>3</td>\n",
       "      <td>73</td>\n",
       "      <td>9c64431e-79f</td>\n",
       "      <td>fb8b5b7f-013</td>\n",
       "      <td>706247b3-86e</td>\n",
       "      <td>1</td>\n",
       "    </tr>\n",
       "    <tr>\n",
       "      <th>1</th>\n",
       "      <td>-4662982070704311223</td>\n",
       "      <td>af48a23f-f80</td>\n",
       "      <td>7</td>\n",
       "      <td>2</td>\n",
       "      <td>72</td>\n",
       "      <td>a989cb37-db5</td>\n",
       "      <td>8631ea96-a78</td>\n",
       "      <td>ea90883c-a2f</td>\n",
       "      <td>1</td>\n",
       "    </tr>\n",
       "    <tr>\n",
       "      <th>2</th>\n",
       "      <td>-4849981472186386714</td>\n",
       "      <td>bab8cfae-930</td>\n",
       "      <td>1</td>\n",
       "      <td>1</td>\n",
       "      <td>11</td>\n",
       "      <td>4f31b9ea-059</td>\n",
       "      <td>5aa1a680-942</td>\n",
       "      <td>d9ab8a13-380</td>\n",
       "      <td>1</td>\n",
       "    </tr>\n",
       "    <tr>\n",
       "      <th>3</th>\n",
       "      <td>-5400975689533971605</td>\n",
       "      <td>3ae9d553-282</td>\n",
       "      <td>4</td>\n",
       "      <td>0</td>\n",
       "      <td>40</td>\n",
       "      <td>37d510f8-745</td>\n",
       "      <td>c9aa3993-86f</td>\n",
       "      <td>0b8d021a-c5c</td>\n",
       "      <td>1</td>\n",
       "    </tr>\n",
       "    <tr>\n",
       "      <th>4</th>\n",
       "      <td>4810905585891548302</td>\n",
       "      <td>3d673534-8f8</td>\n",
       "      <td>3</td>\n",
       "      <td>1</td>\n",
       "      <td>31</td>\n",
       "      <td>4264559d-470</td>\n",
       "      <td>5aa1a680-942</td>\n",
       "      <td>5772716f-1f3</td>\n",
       "      <td>1</td>\n",
       "    </tr>\n",
       "  </tbody>\n",
       "</table>\n",
       "</div>"
      ],
      "text/plain": [
       "               user_id       item_id dow hod H_D   category_id     cusine_id  \\\n",
       "0 -6088859261566846925  601d4dc5-2ad   7   3  73  9c64431e-79f  fb8b5b7f-013   \n",
       "1 -4662982070704311223  af48a23f-f80   7   2  72  a989cb37-db5  8631ea96-a78   \n",
       "2 -4849981472186386714  bab8cfae-930   1   1  11  4f31b9ea-059  5aa1a680-942   \n",
       "3 -5400975689533971605  3ae9d553-282   4   0  40  37d510f8-745  c9aa3993-86f   \n",
       "4  4810905585891548302  3d673534-8f8   3   1  31  4264559d-470  5aa1a680-942   \n",
       "\n",
       "  restaurant_id  item_count  \n",
       "0  706247b3-86e           1  \n",
       "1  ea90883c-a2f           1  \n",
       "2  d9ab8a13-380           1  \n",
       "3  0b8d021a-c5c           1  \n",
       "4  5772716f-1f3           1  "
      ]
     },
     "execution_count": 11,
     "metadata": {},
     "output_type": "execute_result"
    }
   ],
   "source": [
    "a = data['dow'].astype('str')\n",
    "b = data['hod'].astype('str')\n",
    "H_D = a + b\n",
    "data.insert(4, 'H_D', H_D)\n",
    "data.head()"
   ]
  },
  {
   "cell_type": "code",
   "execution_count": 12,
   "metadata": {},
   "outputs": [
    {
     "data": {
      "text/plain": [
       "63    6119\n",
       "62    5988\n",
       "61    5577\n",
       "72    5418\n",
       "71    5412\n",
       "64    5350\n",
       "51    5044\n",
       "      ... \n",
       "66     546\n",
       "16     481\n",
       "56     469\n",
       "36     417\n",
       "76     373\n",
       "46     351\n",
       "26     315\n",
       "Name: H_D, Length: 112, dtype: int64"
      ]
     },
     "execution_count": 12,
     "metadata": {},
     "output_type": "execute_result"
    }
   ],
   "source": [
    "pd.set_option('max_r', 15)\n",
    "data.H_D.value_counts()"
   ]
  },
  {
   "cell_type": "code",
   "execution_count": 13,
   "metadata": {},
   "outputs": [
    {
     "data": {
      "image/png": "[encoded data removed]",
      "text/plain": [
       "<Figure size 720x7200 with 1 Axes>"
      ]
     },
     "metadata": {
      "needs_background": "light"
     },
     "output_type": "display_data"
    }
   ],
   "source": [
    "order_H = data.H_D.value_counts().index\n",
    "n_H = data.H_D.shape[0]\n",
    "H_counts = data.H_D.value_counts()\n",
    "fig = plt.figure(figsize = (10,100))\n",
    "sns.countplot(data = data, y = 'H_D', order = order_H, color = color)\n",
    "for i in range(H_counts.shape[0]):\n",
    "    count_H = H_counts[i]\n",
    "    string_H = '{:.1f}%'.format(100*count_H/n_H)\n",
    "    plt.text(count_H+i, i, string_H)\n",
    "    plt.xlabel('Proportion')\n",
    "    plt.title('Order (%) of different hours of different days')"
   ]
  },
  {
   "cell_type": "markdown",
   "metadata": {},
   "source": [
    "#### Different hours of different days can be a good indicator for our model, I will stop here and try to incorporate this with the model later."
   ]
  },
  {
   "cell_type": "markdown",
   "metadata": {},
   "source": [
    "## Data preprocessing"
   ]
  },
  {
   "cell_type": "code",
   "execution_count": 14,
   "metadata": {},
   "outputs": [
    {
     "name": "stdout",
     "output_type": "stream",
     "text": [
      "Number of missing values:\n"
     ]
    },
    {
     "data": {
      "text/plain": [
       "user_id          0\n",
       "item_id          0\n",
       "dow              0\n",
       "hod              0\n",
       "H_D              0\n",
       "category_id      7\n",
       "cusine_id        3\n",
       "restaurant_id    0\n",
       "item_count       0\n",
       "dtype: int64"
      ]
     },
     "execution_count": 14,
     "metadata": {},
     "output_type": "execute_result"
    }
   ],
   "source": [
    "print('Number of missing values:')\n",
    "data.isnull().sum()"
   ]
  },
  {
   "cell_type": "markdown",
   "metadata": {},
   "source": [
    "#### As we are not using category_id and cusine_id we will not impute those missing values."
   ]
  },
  {
   "cell_type": "code",
   "execution_count": 15,
   "metadata": {},
   "outputs": [
    {
     "name": "stdout",
     "output_type": "stream",
     "text": [
      "item_id dtype: object\n"
     ]
    }
   ],
   "source": [
    "print('item_id dtype:',data.item_id.dtype)"
   ]
  },
  {
   "cell_type": "markdown",
   "metadata": {},
   "source": [
    "#### For my model I need user id and item id as numeric data type instead of category. So I will convert those into numeric."
   ]
  },
  {
   "cell_type": "code",
   "execution_count": 16,
   "metadata": {},
   "outputs": [],
   "source": [
    "data['userId'] = data['user_id'].astype('category').cat.codes\n",
    "data['itemId'] = data['item_id'].astype('category').cat.codes"
   ]
  },
  {
   "cell_type": "code",
   "execution_count": 17,
   "metadata": {},
   "outputs": [
    {
     "data": {
      "text/html": [
       "<div>\n",
       "<style scoped>\n",
       "    .dataframe tbody tr th:only-of-type {\n",
       "        vertical-align: middle;\n",
       "    }\n",
       "\n",
       "    .dataframe tbody tr th {\n",
       "        vertical-align: top;\n",
       "    }\n",
       "\n",
       "    .dataframe thead th {\n",
       "        text-align: right;\n",
       "    }\n",
       "</style>\n",
       "<table border=\"1\" class=\"dataframe\">\n",
       "  <thead>\n",
       "    <tr style=\"text-align: right;\">\n",
       "      <th></th>\n",
       "      <th>user_id</th>\n",
       "      <th>item_id</th>\n",
       "      <th>dow</th>\n",
       "      <th>hod</th>\n",
       "      <th>H_D</th>\n",
       "      <th>category_id</th>\n",
       "      <th>cusine_id</th>\n",
       "      <th>restaurant_id</th>\n",
       "      <th>item_count</th>\n",
       "      <th>userId</th>\n",
       "      <th>itemId</th>\n",
       "    </tr>\n",
       "  </thead>\n",
       "  <tbody>\n",
       "    <tr>\n",
       "      <th>0</th>\n",
       "      <td>-6088859261566846925</td>\n",
       "      <td>601d4dc5-2ad</td>\n",
       "      <td>7</td>\n",
       "      <td>3</td>\n",
       "      <td>73</td>\n",
       "      <td>9c64431e-79f</td>\n",
       "      <td>fb8b5b7f-013</td>\n",
       "      <td>706247b3-86e</td>\n",
       "      <td>1</td>\n",
       "      <td>11800</td>\n",
       "      <td>20043</td>\n",
       "    </tr>\n",
       "    <tr>\n",
       "      <th>1</th>\n",
       "      <td>-4662982070704311223</td>\n",
       "      <td>af48a23f-f80</td>\n",
       "      <td>7</td>\n",
       "      <td>2</td>\n",
       "      <td>72</td>\n",
       "      <td>a989cb37-db5</td>\n",
       "      <td>8631ea96-a78</td>\n",
       "      <td>ea90883c-a2f</td>\n",
       "      <td>1</td>\n",
       "      <td>17106</td>\n",
       "      <td>36473</td>\n",
       "    </tr>\n",
       "    <tr>\n",
       "      <th>2</th>\n",
       "      <td>-4849981472186386714</td>\n",
       "      <td>bab8cfae-930</td>\n",
       "      <td>1</td>\n",
       "      <td>1</td>\n",
       "      <td>11</td>\n",
       "      <td>4f31b9ea-059</td>\n",
       "      <td>5aa1a680-942</td>\n",
       "      <td>d9ab8a13-380</td>\n",
       "      <td>1</td>\n",
       "      <td>16397</td>\n",
       "      <td>38909</td>\n",
       "    </tr>\n",
       "    <tr>\n",
       "      <th>3</th>\n",
       "      <td>-5400975689533971605</td>\n",
       "      <td>3ae9d553-282</td>\n",
       "      <td>4</td>\n",
       "      <td>0</td>\n",
       "      <td>40</td>\n",
       "      <td>37d510f8-745</td>\n",
       "      <td>c9aa3993-86f</td>\n",
       "      <td>0b8d021a-c5c</td>\n",
       "      <td>1</td>\n",
       "      <td>14412</td>\n",
       "      <td>12338</td>\n",
       "    </tr>\n",
       "    <tr>\n",
       "      <th>4</th>\n",
       "      <td>4810905585891548302</td>\n",
       "      <td>3d673534-8f8</td>\n",
       "      <td>3</td>\n",
       "      <td>1</td>\n",
       "      <td>31</td>\n",
       "      <td>4264559d-470</td>\n",
       "      <td>5aa1a680-942</td>\n",
       "      <td>5772716f-1f3</td>\n",
       "      <td>1</td>\n",
       "      <td>52030</td>\n",
       "      <td>12849</td>\n",
       "    </tr>\n",
       "  </tbody>\n",
       "</table>\n",
       "</div>"
      ],
      "text/plain": [
       "               user_id       item_id dow hod H_D   category_id     cusine_id  \\\n",
       "0 -6088859261566846925  601d4dc5-2ad   7   3  73  9c64431e-79f  fb8b5b7f-013   \n",
       "1 -4662982070704311223  af48a23f-f80   7   2  72  a989cb37-db5  8631ea96-a78   \n",
       "2 -4849981472186386714  bab8cfae-930   1   1  11  4f31b9ea-059  5aa1a680-942   \n",
       "3 -5400975689533971605  3ae9d553-282   4   0  40  37d510f8-745  c9aa3993-86f   \n",
       "4  4810905585891548302  3d673534-8f8   3   1  31  4264559d-470  5aa1a680-942   \n",
       "\n",
       "  restaurant_id  item_count  userId  itemId  \n",
       "0  706247b3-86e           1   11800   20043  \n",
       "1  ea90883c-a2f           1   17106   36473  \n",
       "2  d9ab8a13-380           1   16397   38909  \n",
       "3  0b8d021a-c5c           1   14412   12338  \n",
       "4  5772716f-1f3           1   52030   12849  "
      ]
     },
     "execution_count": 17,
     "metadata": {},
     "output_type": "execute_result"
    }
   ],
   "source": [
    "data.head()"
   ]
  },
  {
   "cell_type": "markdown",
   "metadata": {},
   "source": [
    "#### I will retain old user_id and item_id so that I can generate recommended list based on old IDs."
   ]
  },
  {
   "cell_type": "code",
   "execution_count": 18,
   "metadata": {},
   "outputs": [],
   "source": [
    "from sklearn.model_selection import train_test_split\n",
    "train, cros_val = train_test_split(data, test_size = 0.2, random_state = 1)"
   ]
  },
  {
   "cell_type": "code",
   "execution_count": 19,
   "metadata": {},
   "outputs": [],
   "source": [
    "train, test = train_test_split(train, test_size = 0.25, random_state = 1)"
   ]
  },
  {
   "cell_type": "code",
   "execution_count": 20,
   "metadata": {},
   "outputs": [
    {
     "name": "stdout",
     "output_type": "stream",
     "text": [
      "Splitted dataset into train set, cross validation set and test set\n",
      "Train shape: (193882, 11)\n",
      "Test shape: (64628, 11)\n",
      "cros_val shape: (64628, 11)\n"
     ]
    }
   ],
   "source": [
    "print('Splitted dataset into train set, cross validation set and test set')\n",
    "print('Train shape:', train.shape)\n",
    "print('Test shape:', test.shape)\n",
    "print('cros_val shape:',cros_val.shape)"
   ]
  },
  {
   "cell_type": "markdown",
   "metadata": {},
   "source": [
    "#### Splitted the dataset into 60,24,16."
   ]
  },
  {
   "cell_type": "markdown",
   "metadata": {},
   "source": [
    "# Recommender system\n",
    "#### I don't have explicit ratings in my dataset, so I need to use implicit feedback from customers. Here item_count considered as implicit feedback from customers, item_counts represents customers's preference or confidence for a specific item. \n",
    "\n",
    "#### I will use implicit Alternating Least Squares (ALS) as a recommendation model. To go forward we need two csr matrix, user_items (csr_matrix) – Sparse matrix containing the liked items for the user and item_users (csr_matrix) – Matrix of confidences for the liked items. This matrix should be a csr_matrix where the rows of the matrix are the item, the columns are the users that liked that item, and the value is the confidence that the user liked the item."
   ]
  },
  {
   "cell_type": "code",
   "execution_count": 21,
   "metadata": {},
   "outputs": [],
   "source": [
    "import scipy.sparse as sparse\n",
    "user_items = sparse.csr_matrix((train['item_count'].astype(float),(train['userId'], train['itemId'])))\n",
    "item_users = sparse.csr_matrix((train['item_count'].astype(float),(train['itemId'], train['userId'])))"
   ]
  },
  {
   "cell_type": "code",
   "execution_count": 22,
   "metadata": {},
   "outputs": [
    {
     "name": "stdout",
     "output_type": "stream",
     "text": [
      "  (0, 10245)\t1.0\n",
      "  (0, 27974)\t1.0\n",
      "  (0, 30094)\t1.0\n",
      "  (0, 62148)\t1.0\n",
      "  (1, 30300)\t1.0\n",
      "  (2, 10508)\t1.0\n",
      "  (2, 24852)\t1.0\n",
      "  (2, 42938)\t1.0\n",
      "  (2, 49491)\t1.0\n",
      "  (3, 18148)\t1.0\n",
      "  (3, 27487)\t1.0\n",
      "  (3, 44722)\t1.0\n",
      "  (3, 67581)\t1.0\n",
      "  (4, 8042)\t1.0\n",
      "  (4, 19024)\t1.0\n",
      "  (4, 19897)\t1.0\n",
      "  (4, 24292)\t1.0\n",
      "  (4, 35717)\t1.0\n",
      "  (4, 35747)\t1.0\n",
      "  (4, 38992)\t5.0\n",
      "  (4, 40428)\t4.0\n",
      "  (4, 66014)\t1.0\n",
      "  (5, 53978)\t1.0\n",
      "  (6, 2162)\t2.0\n",
      "  (6, 5753)\t1.0\n",
      "  :\t:\n",
      "  (53397, 34710)\t1.0\n",
      "  (53397, 39157)\t1.0\n",
      "  (53397, 46744)\t1.0\n",
      "  (53397, 50097)\t1.0\n",
      "  (53397, 56267)\t1.0\n",
      "  (53397, 66850)\t1.0\n",
      "  (53399, 59001)\t1.0\n",
      "  (53401, 2603)\t1.0\n",
      "  (53401, 9811)\t1.0\n",
      "  (53401, 12394)\t1.0\n",
      "  (53401, 13644)\t1.0\n",
      "  (53401, 14191)\t1.0\n",
      "  (53401, 23215)\t1.0\n",
      "  (53401, 26125)\t1.0\n",
      "  (53401, 27942)\t1.0\n",
      "  (53401, 34807)\t1.0\n",
      "  (53401, 34849)\t1.0\n",
      "  (53401, 44764)\t1.0\n",
      "  (53401, 47134)\t1.0\n",
      "  (53401, 47813)\t1.0\n",
      "  (53401, 49219)\t1.0\n",
      "  (53401, 49468)\t1.0\n",
      "  (53401, 54297)\t1.0\n",
      "  (53402, 22079)\t1.0\n",
      "  (53402, 25703)\t1.0\n"
     ]
    }
   ],
   "source": [
    "print(item_users)"
   ]
  },
  {
   "cell_type": "markdown",
   "metadata": {},
   "source": [
    "#### User 40428 bought item 4 6 times already, so s/he pretty confident about the item 4 or possesses higher preference for item 4."
   ]
  },
  {
   "cell_type": "code",
   "execution_count": 23,
   "metadata": {},
   "outputs": [],
   "source": [
    "import os\n",
    "os.environ['MKL_NUM_THREADS'] = '1' #To avoid multithreading.\n",
    "import implicit\n",
    "model = implicit.als.AlternatingLeastSquares(factors = 500, iterations = 10)\n",
    "''''Parameters: (factors=100, regularization=0.01, dtype=<type 'numpy.float32'>, use_native=True, use_cg=True, \n",
    "use_gpu=False, iterations=15, calculate_training_loss=False, num_threads=0)''';"
   ]
  },
  {
   "cell_type": "code",
   "execution_count": 24,
   "metadata": {},
   "outputs": [],
   "source": [
    "alpha = 40\n",
    "train_conf = (item_users*alpha).astype('double')"
   ]
  },
  {
   "cell_type": "code",
   "execution_count": 25,
   "metadata": {},
   "outputs": [
    {
     "name": "stderr",
     "output_type": "stream",
     "text": [
      "100%|████████████████████████████████████████████████████████████████████████████████| 10.0/10 [00:53<00:00,  5.62s/it]\n"
     ]
    }
   ],
   "source": [
    "model.fit(train_conf)"
   ]
  },
  {
   "cell_type": "markdown",
   "metadata": {},
   "source": [
    "## Model evaluation \n",
    "#### Comparision of train, cros_val and test scores. I used map@k as evaluation matric. map@k considers the order of the predicted items so recommendation accuracy can be obtained easily. "
   ]
  },
  {
   "cell_type": "code",
   "execution_count": 28,
   "metadata": {},
   "outputs": [],
   "source": [
    "import csv\n",
    "fields = 'userId', 'item_list'\n",
    "filename = 'rec_train.csv'\n",
    "with open (filename, 'a', newline = '') as f:\n",
    "    writer = csv.writer(f)\n",
    "    writer.writerow(fields)\n",
    "    userId = train['userId'].values.tolist()\n",
    "    for user in userId:\n",
    "        scores = []\n",
    "        items =[]\n",
    "        results = []\n",
    "        results.append(user)\n",
    "        recommendations = model.recommend(user, user_items, N = 5)\n",
    "        for item in recommendations:\n",
    "            ids, score = item\n",
    "            scores.append(score)\n",
    "            items.append(ids)\n",
    "        results.append(items)\n",
    "        writer.writerow(results)"
   ]
  },
  {
   "cell_type": "code",
   "execution_count": 40,
   "metadata": {},
   "outputs": [
    {
     "name": "stdout",
     "output_type": "stream",
     "text": [
      "Train score: 0.00001032\n"
     ]
    }
   ],
   "source": [
    "predicted = pd.read_csv('rec_train.csv')\n",
    "predicted = predicted['item_list']\n",
    "import ast\n",
    "predicted = [ast.literal_eval(a) for a in predicted]\n",
    "actual = train['itemId']\n",
    "import numpy as np\n",
    "actual = np.array(actual).reshape(193882,1)\n",
    "import ml_metrics\n",
    "score = ml_metrics.mapk(actual, predicted, 5)\n",
    "print('Train score:','{:.8f}'.format(score))"
   ]
  },
  {
   "cell_type": "code",
   "execution_count": 33,
   "metadata": {},
   "outputs": [],
   "source": [
    "import csv\n",
    "fields = 'user_id', 'item_list'\n",
    "filename = 'rec_cros.csv'\n",
    "with open(filename, 'a', newline = '') as f:\n",
    "    writer = csv.writer(f)\n",
    "    writer.writerow(fields)\n",
    "    userId = cros_val['userId'].values.tolist()\n",
    "    for user in userId:\n",
    "        scores = []\n",
    "        items = []\n",
    "        results = []\n",
    "        results.append(user)\n",
    "        recommendations = model.recommend(user, user_items, N = 5)\n",
    "        for item in recommendations:\n",
    "            ids, score = item\n",
    "            scores.append(score)\n",
    "            items.append(ids)\n",
    "        results.append(items)\n",
    "        writer.writerow(results)"
   ]
  },
  {
   "cell_type": "code",
   "execution_count": 34,
   "metadata": {},
   "outputs": [
    {
     "data": {
      "text/plain": [
       "0.09036382579274205"
      ]
     },
     "execution_count": 34,
     "metadata": {},
     "output_type": "execute_result"
    }
   ],
   "source": [
    "predicted_c = pd.read_csv('rec_cros.csv')\n",
    "predicted_c = predicted_c['item_list']\n",
    "import ast \n",
    "predicted_c = [ast.literal_eval(a) for a in predicted_c]\n",
    "actual_c = cros_val['itemId']\n",
    "import numpy as np\n",
    "actual_c = np.array(actual_c).reshape(64628,1)\n",
    "import ml_metrics\n",
    "ml_metrics.mapk(actual_c, predicted_c, 5)"
   ]
  },
  {
   "cell_type": "code",
   "execution_count": 35,
   "metadata": {},
   "outputs": [],
   "source": [
    "fields = 'user_id', 'item_list'\n",
    "filename = 'rec_test.csv'\n",
    "with open(filename, 'a', newline = '') as f:\n",
    "    writer = csv.writer(f)\n",
    "    writer.writerow(fields)\n",
    "    userId = test['userId'].values.tolist()\n",
    "    for user in userId:\n",
    "        scores = []\n",
    "        items = []\n",
    "        results = []\n",
    "        results.append(user)\n",
    "        recommendations = model.recommend(user, user_items, N = 5)\n",
    "        for item in recommendations:\n",
    "            ids, score = item\n",
    "            scores.append(score)\n",
    "            items.append(ids)\n",
    "        results.append(items)\n",
    "        writer.writerow(results)"
   ]
  },
  {
   "cell_type": "code",
   "execution_count": 36,
   "metadata": {},
   "outputs": [
    {
     "data": {
      "text/plain": [
       "0.08932815497926595"
      ]
     },
     "execution_count": 36,
     "metadata": {},
     "output_type": "execute_result"
    }
   ],
   "source": [
    "predicted_t = pd.read_csv('rec_test.csv')\n",
    "predicted_t = predicted_t['item_list']\n",
    "predicted_t = [ast.literal_eval(a) for a in predicted_t]\n",
    "actual_t = test['itemId']\n",
    "actual_t = np.array(actual_t).reshape(64628,1)\n",
    "ml_metrics.mapk(actual_t, predicted_t, 5)"
   ]
  },
  {
   "cell_type": "markdown",
   "metadata": {},
   "source": [
    "#### Fortunately or unfortunately I have lower score in training set. cros_val score and test score are good and consistant. "
   ]
  },
  {
   "cell_type": "code",
   "execution_count": 37,
   "metadata": {},
   "outputs": [
    {
     "data": {
      "text/plain": [
       "(0.20466373816175615,\n",
       " [(4, 0.09727717820047085),\n",
       "  (18416, 0.06715927199438217),\n",
       "  (18193, 0.010457817211991575),\n",
       "  (5664, 0.010180590616848928),\n",
       "  (3298, 0.010089883184075783)],\n",
       " (array([[ 1.19450002,  0.82935004,  0.88143454, ...,  0.85185347,\n",
       "           0.83102421,  0.8709549 ],\n",
       "         [ 0.99065863,  0.86039364,  0.37685385, ...,  0.3688003 ,\n",
       "           0.35884205,  0.37072321],\n",
       "         [ 1.05287357,  1.05526042,  0.79501633, ...,  0.22679665,\n",
       "           0.22518549,  0.23623052],\n",
       "         ...,\n",
       "         [ 1.01753898,  1.02379813,  1.07014392, ...,  0.62721739,\n",
       "           0.01202705, -0.00475507],\n",
       "         [ 0.99265843,  0.99795537,  1.04675059, ...,  1.01445251,\n",
       "           0.61544535,  0.00427259],\n",
       "         [ 1.04035564,  1.04129437,  1.09520532, ...,  1.0567832 ,\n",
       "           1.03388735,  0.62561483]]), False))"
      ]
     },
     "execution_count": 37,
     "metadata": {},
     "output_type": "execute_result"
    }
   ],
   "source": [
    "model.explain(40428, user_items, 4, N = 5)"
   ]
  },
  {
   "cell_type": "markdown",
   "metadata": {},
   "source": [
    "#### We can check the total predicted score for a specific user/item pair, e.g., 40428/4 pair total score is 0.2. Also top 5 (items) contributions for this pair is return by model.explain. So the model can explain the reason behind the recommendation."
   ]
  },
  {
   "cell_type": "code",
   "execution_count": 42,
   "metadata": {},
   "outputs": [
    {
     "name": "stdout",
     "output_type": "stream",
     "text": [
      "List of similar items for itemId 4:\n"
     ]
    },
    {
     "data": {
      "text/plain": [
       "[(4, 0.15983614),\n",
       " (17294, 0.1536483),\n",
       " (18416, 0.15207423),\n",
       " (33646, 0.14479801),\n",
       " (7619, 0.13979481)]"
      ]
     },
     "execution_count": 42,
     "metadata": {},
     "output_type": "execute_result"
    }
   ],
   "source": [
    "print('List of similar items for itemId 4:')\n",
    "model.similar_items(4, N = 5)"
   ]
  },
  {
   "cell_type": "code",
   "execution_count": 43,
   "metadata": {},
   "outputs": [
    {
     "name": "stdout",
     "output_type": "stream",
     "text": [
      "List of similar users for userId 40428:\n"
     ]
    },
    {
     "data": {
      "text/plain": [
       "[(40428, 11.223861),\n",
       " (38992, 9.157663),\n",
       " (39821, 8.955027),\n",
       " (23007, 8.955026),\n",
       " (19024, 8.842846)]"
      ]
     },
     "execution_count": 43,
     "metadata": {},
     "output_type": "execute_result"
    }
   ],
   "source": [
    "print('List of similar users for userId 40428:')\n",
    "model.similar_users(40428, N = 5)"
   ]
  }
 ],
 "metadata": {
  "kernelspec": {
   "display_name": "Python 3",
   "language": "python",
   "name": "python3"
  },
  "language_info": {
   "codemirror_mode": {
    "name": "ipython",
    "version": 3
   },
   "file_extension": ".py",
   "mimetype": "text/x-python",
   "name": "python",
   "nbconvert_exporter": "python",
   "pygments_lexer": "ipython3",
   "version": "3.7.3"
  }
 },
 "nbformat": 4,
 "nbformat_minor": 2
}
